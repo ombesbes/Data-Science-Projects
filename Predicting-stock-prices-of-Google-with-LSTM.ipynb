{
 "cells": [
  {
   "cell_type": "markdown",
   "id": "c8dbb95e",
   "metadata": {
    "papermill": {
     "duration": 0.020458,
     "end_time": "2022-04-12T14:07:31.080669",
     "exception": false,
     "start_time": "2022-04-12T14:07:31.060211",
     "status": "completed"
    },
    "tags": []
   },
   "source": [
    "In this project, we would like to predict the closing price of the Google company in the Stock Market based on the history of closing prices of this company."
   ]
  },
  {
   "cell_type": "markdown",
   "id": "5b96690c",
   "metadata": {
    "papermill": {
     "duration": 0.015764,
     "end_time": "2022-04-12T14:07:31.112526",
     "exception": false,
     "start_time": "2022-04-12T14:07:31.096762",
     "status": "completed"
    },
    "tags": []
   },
   "source": [
    "# 1. Importing libraries"
   ]
  },
  {
   "cell_type": "code",
   "execution_count": 1,
   "id": "e72aaee8",
   "metadata": {
    "execution": {
     "iopub.execute_input": "2022-04-12T14:07:31.151552Z",
     "iopub.status.busy": "2022-04-12T14:07:31.146572Z",
     "iopub.status.idle": "2022-04-12T14:07:43.331740Z",
     "shell.execute_reply": "2022-04-12T14:07:43.331073Z",
     "shell.execute_reply.started": "2022-04-12T13:25:11.076520Z"
    },
    "papermill": {
     "duration": 12.203873,
     "end_time": "2022-04-12T14:07:43.331921",
     "exception": false,
     "start_time": "2022-04-12T14:07:31.128048",
     "status": "completed"
    },
    "tags": []
   },
   "outputs": [
    {
     "name": "stdout",
     "output_type": "stream",
     "text": [
      "\u001b[33mWARNING: Running pip as the 'root' user can result in broken permissions and conflicting behaviour with the system package manager. It is recommended to use a virtual environment instead: https://pip.pypa.io/warnings/venv\u001b[0m\r\n"
     ]
    }
   ],
   "source": [
    "!pip install -q yfinance"
   ]
  },
  {
   "cell_type": "code",
   "execution_count": 2,
   "id": "cf18d10c",
   "metadata": {
    "execution": {
     "iopub.execute_input": "2022-04-12T14:07:43.373554Z",
     "iopub.status.busy": "2022-04-12T14:07:43.372887Z",
     "iopub.status.idle": "2022-04-12T14:07:50.006458Z",
     "shell.execute_reply": "2022-04-12T14:07:50.006997Z",
     "shell.execute_reply.started": "2022-04-12T13:26:35.925311Z"
    },
    "papermill": {
     "duration": 6.658908,
     "end_time": "2022-04-12T14:07:50.007170",
     "exception": false,
     "start_time": "2022-04-12T14:07:43.348262",
     "status": "completed"
    },
    "tags": []
   },
   "outputs": [],
   "source": [
    "import numpy as np\n",
    "import pandas as pd\n",
    "\n",
    "import os\n",
    "import matplotlib.pyplot as plt\n",
    "import pandas_datareader as web\n",
    "from datetime import datetime as dt\n",
    "from pandas_datareader.data import DataReader\n",
    "import yfinance as yf\n",
    "\n",
    "\n",
    "from sklearn.preprocessing import MinMaxScaler\n",
    "from tensorflow.keras.models import Sequential\n",
    "from tensorflow.keras.layers import Dense, Dropout, LSTM\n",
    "from tensorflow.keras.callbacks import ModelCheckpoint, EarlyStopping"
   ]
  },
  {
   "cell_type": "markdown",
   "id": "f903450e",
   "metadata": {
    "papermill": {
     "duration": 0.015293,
     "end_time": "2022-04-12T14:07:50.038142",
     "exception": false,
     "start_time": "2022-04-12T14:07:50.022849",
     "status": "completed"
    },
    "tags": []
   },
   "source": [
    "# 2. Preprocessing"
   ]
  },
  {
   "cell_type": "code",
   "execution_count": 3,
   "id": "05b01526",
   "metadata": {
    "execution": {
     "iopub.execute_input": "2022-04-12T14:07:50.074069Z",
     "iopub.status.busy": "2022-04-12T14:07:50.071993Z",
     "iopub.status.idle": "2022-04-12T14:07:50.075919Z",
     "shell.execute_reply": "2022-04-12T14:07:50.076357Z",
     "shell.execute_reply.started": "2022-04-12T13:28:20.522489Z"
    },
    "papermill": {
     "duration": 0.022629,
     "end_time": "2022-04-12T14:07:50.076540",
     "exception": false,
     "start_time": "2022-04-12T14:07:50.053911",
     "status": "completed"
    },
    "tags": []
   },
   "outputs": [],
   "source": [
    "# Choosing the company = Google, end and start dates\n",
    "company = 'GOOG'\n",
    "end = dt.now()\n",
    "start = dt(end.year -2, end.month, end.day)"
   ]
  },
  {
   "cell_type": "code",
   "execution_count": 4,
   "id": "fde65f84",
   "metadata": {
    "execution": {
     "iopub.execute_input": "2022-04-12T14:07:50.116998Z",
     "iopub.status.busy": "2022-04-12T14:07:50.110460Z",
     "iopub.status.idle": "2022-04-12T14:07:51.226533Z",
     "shell.execute_reply": "2022-04-12T14:07:51.227326Z",
     "shell.execute_reply.started": "2022-04-12T13:28:48.587761Z"
    },
    "papermill": {
     "duration": 1.134909,
     "end_time": "2022-04-12T14:07:51.227563",
     "exception": false,
     "start_time": "2022-04-12T14:07:50.092654",
     "status": "completed"
    },
    "tags": []
   },
   "outputs": [
    {
     "name": "stdout",
     "output_type": "stream",
     "text": [
      "[*********************100%***********************]  1 of 1 completed\n"
     ]
    }
   ],
   "source": [
    "#downloading the dataset relative to Google\n",
    "data = yf.download(company, start, end)"
   ]
  },
  {
   "cell_type": "code",
   "execution_count": 5,
   "id": "eaa75169",
   "metadata": {
    "execution": {
     "iopub.execute_input": "2022-04-12T14:07:51.264438Z",
     "iopub.status.busy": "2022-04-12T14:07:51.263757Z",
     "iopub.status.idle": "2022-04-12T14:07:51.281868Z",
     "shell.execute_reply": "2022-04-12T14:07:51.281328Z",
     "shell.execute_reply.started": "2022-04-12T13:29:21.627356Z"
    },
    "papermill": {
     "duration": 0.037109,
     "end_time": "2022-04-12T14:07:51.282002",
     "exception": false,
     "start_time": "2022-04-12T14:07:51.244893",
     "status": "completed"
    },
    "tags": []
   },
   "outputs": [
    {
     "data": {
      "text/html": [
       "<div>\n",
       "<style scoped>\n",
       "    .dataframe tbody tr th:only-of-type {\n",
       "        vertical-align: middle;\n",
       "    }\n",
       "\n",
       "    .dataframe tbody tr th {\n",
       "        vertical-align: top;\n",
       "    }\n",
       "\n",
       "    .dataframe thead th {\n",
       "        text-align: right;\n",
       "    }\n",
       "</style>\n",
       "<table border=\"1\" class=\"dataframe\">\n",
       "  <thead>\n",
       "    <tr style=\"text-align: right;\">\n",
       "      <th></th>\n",
       "      <th>Open</th>\n",
       "      <th>High</th>\n",
       "      <th>Low</th>\n",
       "      <th>Close</th>\n",
       "      <th>Adj Close</th>\n",
       "      <th>Volume</th>\n",
       "    </tr>\n",
       "    <tr>\n",
       "      <th>Date</th>\n",
       "      <th></th>\n",
       "      <th></th>\n",
       "      <th></th>\n",
       "      <th></th>\n",
       "      <th></th>\n",
       "      <th></th>\n",
       "    </tr>\n",
       "  </thead>\n",
       "  <tbody>\n",
       "    <tr>\n",
       "      <th>2020-04-13</th>\n",
       "      <td>1209.180054</td>\n",
       "      <td>1220.510010</td>\n",
       "      <td>1187.598022</td>\n",
       "      <td>1217.560059</td>\n",
       "      <td>1217.560059</td>\n",
       "      <td>1739800</td>\n",
       "    </tr>\n",
       "    <tr>\n",
       "      <th>2020-04-14</th>\n",
       "      <td>1245.089966</td>\n",
       "      <td>1282.069946</td>\n",
       "      <td>1236.930054</td>\n",
       "      <td>1269.229980</td>\n",
       "      <td>1269.229980</td>\n",
       "      <td>2470400</td>\n",
       "    </tr>\n",
       "    <tr>\n",
       "      <th>2020-04-15</th>\n",
       "      <td>1245.609985</td>\n",
       "      <td>1280.459961</td>\n",
       "      <td>1240.400024</td>\n",
       "      <td>1262.469971</td>\n",
       "      <td>1262.469971</td>\n",
       "      <td>1671700</td>\n",
       "    </tr>\n",
       "    <tr>\n",
       "      <th>2020-04-16</th>\n",
       "      <td>1274.099976</td>\n",
       "      <td>1279.000000</td>\n",
       "      <td>1242.619995</td>\n",
       "      <td>1263.469971</td>\n",
       "      <td>1263.469971</td>\n",
       "      <td>2518100</td>\n",
       "    </tr>\n",
       "    <tr>\n",
       "      <th>2020-04-17</th>\n",
       "      <td>1284.849976</td>\n",
       "      <td>1294.430054</td>\n",
       "      <td>1271.229980</td>\n",
       "      <td>1283.250000</td>\n",
       "      <td>1283.250000</td>\n",
       "      <td>1949000</td>\n",
       "    </tr>\n",
       "  </tbody>\n",
       "</table>\n",
       "</div>"
      ],
      "text/plain": [
       "                   Open         High          Low        Close    Adj Close  \\\n",
       "Date                                                                          \n",
       "2020-04-13  1209.180054  1220.510010  1187.598022  1217.560059  1217.560059   \n",
       "2020-04-14  1245.089966  1282.069946  1236.930054  1269.229980  1269.229980   \n",
       "2020-04-15  1245.609985  1280.459961  1240.400024  1262.469971  1262.469971   \n",
       "2020-04-16  1274.099976  1279.000000  1242.619995  1263.469971  1263.469971   \n",
       "2020-04-17  1284.849976  1294.430054  1271.229980  1283.250000  1283.250000   \n",
       "\n",
       "             Volume  \n",
       "Date                 \n",
       "2020-04-13  1739800  \n",
       "2020-04-14  2470400  \n",
       "2020-04-15  1671700  \n",
       "2020-04-16  2518100  \n",
       "2020-04-17  1949000  "
      ]
     },
     "execution_count": 5,
     "metadata": {},
     "output_type": "execute_result"
    }
   ],
   "source": [
    "data.head()"
   ]
  },
  {
   "cell_type": "code",
   "execution_count": 6,
   "id": "50d302fd",
   "metadata": {
    "execution": {
     "iopub.execute_input": "2022-04-12T14:07:51.321511Z",
     "iopub.status.busy": "2022-04-12T14:07:51.320828Z",
     "iopub.status.idle": "2022-04-12T14:07:51.333291Z",
     "shell.execute_reply": "2022-04-12T14:07:51.333779Z",
     "shell.execute_reply.started": "2022-04-12T13:35:55.937641Z"
    },
    "papermill": {
     "duration": 0.03518,
     "end_time": "2022-04-12T14:07:51.333954",
     "exception": false,
     "start_time": "2022-04-12T14:07:51.298774",
     "status": "completed"
    },
    "tags": []
   },
   "outputs": [
    {
     "name": "stdout",
     "output_type": "stream",
     "text": [
      "<class 'pandas.core.frame.DataFrame'>\n",
      "DatetimeIndex: 506 entries, 2020-04-13 to 2022-04-12\n",
      "Data columns (total 6 columns):\n",
      " #   Column     Non-Null Count  Dtype  \n",
      "---  ------     --------------  -----  \n",
      " 0   Open       506 non-null    float64\n",
      " 1   High       506 non-null    float64\n",
      " 2   Low        506 non-null    float64\n",
      " 3   Close      506 non-null    float64\n",
      " 4   Adj Close  506 non-null    float64\n",
      " 5   Volume     506 non-null    int64  \n",
      "dtypes: float64(5), int64(1)\n",
      "memory usage: 27.7 KB\n"
     ]
    }
   ],
   "source": [
    "data.info()"
   ]
  },
  {
   "cell_type": "code",
   "execution_count": 7,
   "id": "cddedcf2",
   "metadata": {
    "execution": {
     "iopub.execute_input": "2022-04-12T14:07:51.371788Z",
     "iopub.status.busy": "2022-04-12T14:07:51.370861Z",
     "iopub.status.idle": "2022-04-12T14:07:51.377202Z",
     "shell.execute_reply": "2022-04-12T14:07:51.376607Z",
     "shell.execute_reply.started": "2022-04-12T13:36:25.955221Z"
    },
    "papermill": {
     "duration": 0.026472,
     "end_time": "2022-04-12T14:07:51.377347",
     "exception": false,
     "start_time": "2022-04-12T14:07:51.350875",
     "status": "completed"
    },
    "tags": []
   },
   "outputs": [
    {
     "data": {
      "text/plain": [
       "(506, 6)"
      ]
     },
     "execution_count": 7,
     "metadata": {},
     "output_type": "execute_result"
    }
   ],
   "source": [
    "data.shape"
   ]
  },
  {
   "cell_type": "code",
   "execution_count": 8,
   "id": "743c42e4",
   "metadata": {
    "execution": {
     "iopub.execute_input": "2022-04-12T14:07:51.421439Z",
     "iopub.status.busy": "2022-04-12T14:07:51.420465Z",
     "iopub.status.idle": "2022-04-12T14:07:51.443097Z",
     "shell.execute_reply": "2022-04-12T14:07:51.442626Z",
     "shell.execute_reply.started": "2022-04-12T13:38:28.916176Z"
    },
    "papermill": {
     "duration": 0.048578,
     "end_time": "2022-04-12T14:07:51.443240",
     "exception": false,
     "start_time": "2022-04-12T14:07:51.394662",
     "status": "completed"
    },
    "tags": []
   },
   "outputs": [
    {
     "data": {
      "text/html": [
       "<div>\n",
       "<style scoped>\n",
       "    .dataframe tbody tr th:only-of-type {\n",
       "        vertical-align: middle;\n",
       "    }\n",
       "\n",
       "    .dataframe tbody tr th {\n",
       "        vertical-align: top;\n",
       "    }\n",
       "\n",
       "    .dataframe thead th {\n",
       "        text-align: right;\n",
       "    }\n",
       "</style>\n",
       "<table border=\"1\" class=\"dataframe\">\n",
       "  <thead>\n",
       "    <tr style=\"text-align: right;\">\n",
       "      <th></th>\n",
       "      <th>Open</th>\n",
       "      <th>High</th>\n",
       "      <th>Low</th>\n",
       "      <th>Close</th>\n",
       "      <th>Adj Close</th>\n",
       "      <th>Volume</th>\n",
       "    </tr>\n",
       "  </thead>\n",
       "  <tbody>\n",
       "    <tr>\n",
       "      <th>count</th>\n",
       "      <td>506.000000</td>\n",
       "      <td>506.000000</td>\n",
       "      <td>506.000000</td>\n",
       "      <td>506.000000</td>\n",
       "      <td>506.000000</td>\n",
       "      <td>5.060000e+02</td>\n",
       "    </tr>\n",
       "    <tr>\n",
       "      <th>mean</th>\n",
       "      <td>2184.539351</td>\n",
       "      <td>2207.453615</td>\n",
       "      <td>2162.306863</td>\n",
       "      <td>2185.145248</td>\n",
       "      <td>2185.145248</td>\n",
       "      <td>1.474216e+06</td>\n",
       "    </tr>\n",
       "    <tr>\n",
       "      <th>std</th>\n",
       "      <td>570.339252</td>\n",
       "      <td>572.442411</td>\n",
       "      <td>565.131596</td>\n",
       "      <td>568.566613</td>\n",
       "      <td>568.566613</td>\n",
       "      <td>5.991371e+05</td>\n",
       "    </tr>\n",
       "    <tr>\n",
       "      <th>min</th>\n",
       "      <td>1209.180054</td>\n",
       "      <td>1220.510010</td>\n",
       "      <td>1187.598022</td>\n",
       "      <td>1216.339966</td>\n",
       "      <td>1216.339966</td>\n",
       "      <td>2.166330e+05</td>\n",
       "    </tr>\n",
       "    <tr>\n",
       "      <th>25%</th>\n",
       "      <td>1584.544983</td>\n",
       "      <td>1608.038727</td>\n",
       "      <td>1568.911255</td>\n",
       "      <td>1588.762451</td>\n",
       "      <td>1588.762451</td>\n",
       "      <td>1.071000e+06</td>\n",
       "    </tr>\n",
       "    <tr>\n",
       "      <th>50%</th>\n",
       "      <td>2263.054932</td>\n",
       "      <td>2280.997437</td>\n",
       "      <td>2251.452026</td>\n",
       "      <td>2263.704956</td>\n",
       "      <td>2263.704956</td>\n",
       "      <td>1.355900e+06</td>\n",
       "    </tr>\n",
       "    <tr>\n",
       "      <th>75%</th>\n",
       "      <td>2742.060547</td>\n",
       "      <td>2767.599976</td>\n",
       "      <td>2713.585022</td>\n",
       "      <td>2739.767578</td>\n",
       "      <td>2739.767578</td>\n",
       "      <td>1.702050e+06</td>\n",
       "    </tr>\n",
       "    <tr>\n",
       "      <th>max</th>\n",
       "      <td>3037.270020</td>\n",
       "      <td>3042.000000</td>\n",
       "      <td>2997.750000</td>\n",
       "      <td>3014.179932</td>\n",
       "      <td>3014.179932</td>\n",
       "      <td>4.487500e+06</td>\n",
       "    </tr>\n",
       "  </tbody>\n",
       "</table>\n",
       "</div>"
      ],
      "text/plain": [
       "              Open         High          Low        Close    Adj Close  \\\n",
       "count   506.000000   506.000000   506.000000   506.000000   506.000000   \n",
       "mean   2184.539351  2207.453615  2162.306863  2185.145248  2185.145248   \n",
       "std     570.339252   572.442411   565.131596   568.566613   568.566613   \n",
       "min    1209.180054  1220.510010  1187.598022  1216.339966  1216.339966   \n",
       "25%    1584.544983  1608.038727  1568.911255  1588.762451  1588.762451   \n",
       "50%    2263.054932  2280.997437  2251.452026  2263.704956  2263.704956   \n",
       "75%    2742.060547  2767.599976  2713.585022  2739.767578  2739.767578   \n",
       "max    3037.270020  3042.000000  2997.750000  3014.179932  3014.179932   \n",
       "\n",
       "             Volume  \n",
       "count  5.060000e+02  \n",
       "mean   1.474216e+06  \n",
       "std    5.991371e+05  \n",
       "min    2.166330e+05  \n",
       "25%    1.071000e+06  \n",
       "50%    1.355900e+06  \n",
       "75%    1.702050e+06  \n",
       "max    4.487500e+06  "
      ]
     },
     "execution_count": 8,
     "metadata": {},
     "output_type": "execute_result"
    }
   ],
   "source": [
    "data.describe()"
   ]
  },
  {
   "cell_type": "code",
   "execution_count": 9,
   "id": "fb86f2bd",
   "metadata": {
    "execution": {
     "iopub.execute_input": "2022-04-12T14:07:51.482493Z",
     "iopub.status.busy": "2022-04-12T14:07:51.481581Z",
     "iopub.status.idle": "2022-04-12T14:07:51.488194Z",
     "shell.execute_reply": "2022-04-12T14:07:51.488648Z",
     "shell.execute_reply.started": "2022-04-12T13:38:55.494211Z"
    },
    "papermill": {
     "duration": 0.027898,
     "end_time": "2022-04-12T14:07:51.488807",
     "exception": false,
     "start_time": "2022-04-12T14:07:51.460909",
     "status": "completed"
    },
    "tags": []
   },
   "outputs": [
    {
     "data": {
      "text/plain": [
       "Open         0\n",
       "High         0\n",
       "Low          0\n",
       "Close        0\n",
       "Adj Close    0\n",
       "Volume       0\n",
       "dtype: int64"
      ]
     },
     "execution_count": 9,
     "metadata": {},
     "output_type": "execute_result"
    }
   ],
   "source": [
    "#checking for null values\n",
    "data.isnull().sum()"
   ]
  },
  {
   "cell_type": "markdown",
   "id": "6f2c8fee",
   "metadata": {
    "papermill": {
     "duration": 0.017563,
     "end_time": "2022-04-12T14:07:51.524180",
     "exception": false,
     "start_time": "2022-04-12T14:07:51.506617",
     "status": "completed"
    },
    "tags": []
   },
   "source": [
    "# 3. Data visualization"
   ]
  },
  {
   "cell_type": "code",
   "execution_count": 10,
   "id": "8e89c2e7",
   "metadata": {
    "execution": {
     "iopub.execute_input": "2022-04-12T14:07:51.564286Z",
     "iopub.status.busy": "2022-04-12T14:07:51.563304Z",
     "iopub.status.idle": "2022-04-12T14:07:51.861330Z",
     "shell.execute_reply": "2022-04-12T14:07:51.860878Z",
     "shell.execute_reply.started": "2022-04-12T13:53:09.388828Z"
    },
    "papermill": {
     "duration": 0.319339,
     "end_time": "2022-04-12T14:07:51.861482",
     "exception": false,
     "start_time": "2022-04-12T14:07:51.542143",
     "status": "completed"
    },
    "tags": []
   },
   "outputs": [
    {
     "data": {
      "text/plain": [
       "Text(0.5, 1.0, 'Closing Price of Google')"
      ]
     },
     "execution_count": 10,
     "metadata": {},
     "output_type": "execute_result"
    },
    {
     "data": {
      "image/png": "[encoded data removed]",
      "text/plain": [
       "<Figure size 432x288 with 1 Axes>"
      ]
     },
     "metadata": {
      "needs_background": "light"
     },
     "output_type": "display_data"
    }
   ],
   "source": [
    "#plotting a historical view of the closing price\n",
    "plt.plot(data['Close'])\n",
    "plt.ylabel('Close')\n",
    "plt.xlabel('Date')\n",
    "plt.xticks(rotation=45)\n",
    "plt.title(\"Closing Price of Google\")"
   ]
  },
  {
   "cell_type": "markdown",
   "id": "73b37389",
   "metadata": {
    "papermill": {
     "duration": 0.019044,
     "end_time": "2022-04-12T14:07:51.899840",
     "exception": false,
     "start_time": "2022-04-12T14:07:51.880796",
     "status": "completed"
    },
    "tags": []
   },
   "source": [
    "# 4. Modeling"
   ]
  },
  {
   "cell_type": "code",
   "execution_count": 11,
   "id": "0b7c5a0a",
   "metadata": {
    "execution": {
     "iopub.execute_input": "2022-04-12T14:07:51.945563Z",
     "iopub.status.busy": "2022-04-12T14:07:51.944765Z",
     "iopub.status.idle": "2022-04-12T14:07:51.948200Z",
     "shell.execute_reply": "2022-04-12T14:07:51.947698Z",
     "shell.execute_reply.started": "2022-04-12T13:54:36.949680Z"
    },
    "papermill": {
     "duration": 0.02914,
     "end_time": "2022-04-12T14:07:51.948327",
     "exception": false,
     "start_time": "2022-04-12T14:07:51.919187",
     "status": "completed"
    },
    "tags": []
   },
   "outputs": [
    {
     "data": {
      "text/plain": [
       "456"
      ]
     },
     "execution_count": 11,
     "metadata": {},
     "output_type": "execute_result"
    }
   ],
   "source": [
    "# Create a new dataframe with only the 'Close' column \n",
    "data1 = data.filter(['Close'])\n",
    "# Convert the dataframe to a numpy array\n",
    "dataset = data1.values\n",
    "# Get the number of rows to train the model on\n",
    "training_data_len = int(np.ceil( len(dataset) * .9 ))\n",
    "\n",
    "training_data_len"
   ]
  },
  {
   "cell_type": "code",
   "execution_count": 12,
   "id": "01f69cf1",
   "metadata": {
    "execution": {
     "iopub.execute_input": "2022-04-12T14:07:51.992473Z",
     "iopub.status.busy": "2022-04-12T14:07:51.991468Z",
     "iopub.status.idle": "2022-04-12T14:07:52.005546Z",
     "shell.execute_reply": "2022-04-12T14:07:52.005017Z",
     "shell.execute_reply.started": "2022-04-12T13:55:23.740024Z"
    },
    "papermill": {
     "duration": 0.037638,
     "end_time": "2022-04-12T14:07:52.005712",
     "exception": false,
     "start_time": "2022-04-12T14:07:51.968074",
     "status": "completed"
    },
    "tags": []
   },
   "outputs": [
    {
     "data": {
      "text/plain": [
       "array([[6.78643704e-04],\n",
       "       [2.94186444e-02],\n",
       "       [2.56585713e-02],\n",
       "       [2.62147943e-02],\n",
       "       [3.72169022e-02],\n",
       "       [2.79613428e-02],\n",
       "       [0.00000000e+00],\n",
       "       [2.60701709e-02],\n",
       "       [3.33567469e-02],\n",
       "       [3.50254160e-02],\n",
       "       [3.31175412e-02],\n",
       "       [9.63938863e-03],\n",
       "       [6.96057586e-02],\n",
       "       [7.35994698e-02],\n",
       "       [5.79973866e-02],\n",
       "       [6.14404425e-02],\n",
       "       [7.49621891e-02],\n",
       "       [7.28430147e-02],\n",
       "       [8.68932139e-02],\n",
       "       [9.56870648e-02],\n",
       "       [1.03969234e-01],\n",
       "       [8.86619652e-02],\n",
       "       [7.39720958e-02],\n",
       "       [7.77544396e-02],\n",
       "       [8.72435693e-02],\n",
       "       [9.32229669e-02],\n",
       "       [8.74076795e-02],\n",
       "       [1.05893744e-01],\n",
       "       [1.03713393e-01],\n",
       "       [1.07951810e-01],\n",
       "       [1.11622868e-01],\n",
       "       [1.12078941e-01],\n",
       "       [1.11461542e-01],\n",
       "       [1.18241936e-01],\n",
       "       [1.19854928e-01],\n",
       "       [1.23970992e-01],\n",
       "       [1.22391338e-01],\n",
       "       [1.08930768e-01],\n",
       "       [1.23509352e-01],\n",
       "       [1.28081489e-01],\n",
       "       [1.33393446e-01],\n",
       "       [1.38783215e-01],\n",
       "       [1.04291819e-01],\n",
       "       [1.09486991e-01],\n",
       "       [1.13196955e-01],\n",
       "       [1.25917773e-01],\n",
       "       [1.30590060e-01],\n",
       "       [1.22157700e-01],\n",
       "       [1.19799320e-01],\n",
       "       [1.31001660e-01],\n",
       "       [1.37982286e-01],\n",
       "       [1.19938375e-01],\n",
       "       [1.25144615e-01],\n",
       "       [7.98514113e-02],\n",
       "       [9.93581232e-02],\n",
       "       [1.09726129e-01],\n",
       "       [1.23314687e-01],\n",
       "       [1.38143545e-01],\n",
       "       [1.55386459e-01],\n",
       "       [1.49535049e-01],\n",
       "       [1.55553353e-01],\n",
       "       [1.63891130e-01],\n",
       "       [1.80994989e-01],\n",
       "       [1.64085795e-01],\n",
       "       [1.69225290e-01],\n",
       "       [1.65365135e-01],\n",
       "       [1.67790259e-01],\n",
       "       [1.66427540e-01],\n",
       "       [1.94333206e-01],\n",
       "       [1.90272819e-01],\n",
       "       [1.95873955e-01],\n",
       "       [1.66499852e-01],\n",
       "       [1.64380609e-01],\n",
       "       [1.74576153e-01],\n",
       "       [1.57967342e-01],\n",
       "       [1.70026287e-01],\n",
       "       [1.75271432e-01],\n",
       "       [1.48300183e-01],\n",
       "       [1.43566719e-01],\n",
       "       [1.38293736e-01],\n",
       "       [1.43099511e-01],\n",
       "       [1.57833853e-01],\n",
       "       [1.54713450e-01],\n",
       "       [1.55608961e-01],\n",
       "       [1.46831746e-01],\n",
       "       [1.61460439e-01],\n",
       "       [1.68040533e-01],\n",
       "       [1.62077838e-01],\n",
       "       [1.67779124e-01],\n",
       "       [1.90372901e-01],\n",
       "       [1.84215542e-01],\n",
       "       [2.03249478e-01],\n",
       "       [2.02509726e-01],\n",
       "       [2.06837089e-01],\n",
       "       [2.17972685e-01],\n",
       "       [2.42535513e-01],\n",
       "       [2.32495660e-01],\n",
       "       [2.38102432e-01],\n",
       "       [2.32412281e-01],\n",
       "       [2.47168827e-01],\n",
       "       [2.84752855e-01],\n",
       "       [2.36672901e-01],\n",
       "       [2.08416811e-01],\n",
       "       [1.75794317e-01],\n",
       "       [1.89460687e-01],\n",
       "       [1.75588517e-01],\n",
       "       [1.69303170e-01],\n",
       "       [1.68502241e-01],\n",
       "       [1.80828095e-01],\n",
       "       [1.69403320e-01],\n",
       "       [1.55291944e-01],\n",
       "       [1.35523756e-01],\n",
       "       [1.19487870e-01],\n",
       "       [1.38566279e-01],\n",
       "       [1.10616072e-01],\n",
       "       [1.17891513e-01],\n",
       "       [1.27163707e-01],\n",
       "       [1.38043462e-01],\n",
       "       [1.40718860e-01],\n",
       "       [1.40869051e-01],\n",
       "       [1.52266055e-01],\n",
       "       [1.34650515e-01],\n",
       "       [1.50002258e-01],\n",
       "       [1.31880468e-01],\n",
       "       [1.35690650e-01],\n",
       "       [1.49952217e-01],\n",
       "       [1.66243943e-01],\n",
       "       [1.96241081e-01],\n",
       "       [1.97648342e-01],\n",
       "       [1.95645884e-01],\n",
       "       [1.90667715e-01],\n",
       "       [1.98388094e-01],\n",
       "       [1.77029116e-01],\n",
       "       [1.88887829e-01],\n",
       "       [2.09679449e-01],\n",
       "       [2.21927423e-01],\n",
       "       [2.36205693e-01],\n",
       "       [2.08088591e-01],\n",
       "       [2.15770064e-01],\n",
       "       [1.67022669e-01],\n",
       "       [1.95178676e-01],\n",
       "       [2.25086800e-01],\n",
       "       [2.27879050e-01],\n",
       "       [2.41328485e-01],\n",
       "       [2.96350092e-01],\n",
       "       [3.04270702e-01],\n",
       "       [3.03369624e-01],\n",
       "       [3.04064903e-01],\n",
       "       [2.91488708e-01],\n",
       "       [2.98341346e-01],\n",
       "       [2.96744989e-01],\n",
       "       [3.11863160e-01],\n",
       "       [3.14288285e-01],\n",
       "       [3.08041911e-01],\n",
       "       [2.95042981e-01],\n",
       "       [3.04576652e-01],\n",
       "       [2.92489869e-01],\n",
       "       [2.88412778e-01],\n",
       "       [3.07335497e-01],\n",
       "       [3.08753893e-01],\n",
       "       [3.20857243e-01],\n",
       "       [3.02807833e-01],\n",
       "       [3.23588318e-01],\n",
       "       [3.40191562e-01],\n",
       "       [3.39535256e-01],\n",
       "       [3.40213832e-01],\n",
       "       [3.35480369e-01],\n",
       "       [3.34963119e-01],\n",
       "       [3.15817898e-01],\n",
       "       [3.10923108e-01],\n",
       "       [3.14505220e-01],\n",
       "       [3.02429640e-01],\n",
       "       [3.06718097e-01],\n",
       "       [3.04064903e-01],\n",
       "       [2.95665948e-01],\n",
       "       [2.86271333e-01],\n",
       "       [2.90921350e-01],\n",
       "       [2.82094093e-01],\n",
       "       [2.87033356e-01],\n",
       "       [2.90632103e-01],\n",
       "       [3.11345843e-01],\n",
       "       [3.01684252e-01],\n",
       "       [2.91004797e-01],\n",
       "       [2.97879705e-01],\n",
       "       [2.84730585e-01],\n",
       "       [2.91783523e-01],\n",
       "       [2.88651984e-01],\n",
       "       [3.17553311e-01],\n",
       "       [3.28655501e-01],\n",
       "       [3.06134036e-01],\n",
       "       [2.94915061e-01],\n",
       "       [2.99281398e-01],\n",
       "       [2.91371923e-01],\n",
       "       [2.89152531e-01],\n",
       "       [3.19561268e-01],\n",
       "       [3.72980950e-01],\n",
       "       [3.75400507e-01],\n",
       "       [3.80851520e-01],\n",
       "       [3.79933738e-01],\n",
       "       [3.89856738e-01],\n",
       "       [3.41771284e-01],\n",
       "       [3.59748382e-01],\n",
       "       [3.44524561e-01],\n",
       "       [3.81018346e-01],\n",
       "       [3.95569159e-01],\n",
       "       [4.74864348e-01],\n",
       "       [4.70581457e-01],\n",
       "       [4.90399619e-01],\n",
       "       [4.87568395e-01],\n",
       "       [4.82339953e-01],\n",
       "       [4.88942249e-01],\n",
       "       [4.89225929e-01],\n",
       "       [4.93798201e-01],\n",
       "       [5.03693295e-01],\n",
       "       [5.07258772e-01],\n",
       "       [5.01079074e-01],\n",
       "       [4.92146100e-01],\n",
       "       [4.71977447e-01],\n",
       "       [4.75303786e-01],\n",
       "       [4.88825464e-01],\n",
       "       [4.53332908e-01],\n",
       "       [4.56392135e-01],\n",
       "       [4.81227507e-01],\n",
       "       [4.78073765e-01],\n",
       "       [4.50746457e-01],\n",
       "       [4.63194799e-01],\n",
       "       [4.96262231e-01],\n",
       "       [4.49333697e-01],\n",
       "       [4.65202688e-01],\n",
       "       [4.66498731e-01],\n",
       "       [4.99727490e-01],\n",
       "       [4.70331048e-01],\n",
       "       [4.72873026e-01],\n",
       "       [4.87351528e-01],\n",
       "       [4.86550599e-01],\n",
       "       [4.56036144e-01],\n",
       "       [4.59918570e-01],\n",
       "       [4.57354390e-01],\n",
       "       [4.65347312e-01],\n",
       "       [4.60953204e-01],\n",
       "       [4.60563807e-01],\n",
       "       [4.55663518e-01],\n",
       "       [4.67010413e-01],\n",
       "       [4.66782411e-01],\n",
       "       [4.74063283e-01],\n",
       "       [5.12509485e-01],\n",
       "       [5.61345894e-01],\n",
       "       [5.60900888e-01],\n",
       "       [5.74767491e-01],\n",
       "       [5.83533571e-01],\n",
       "       [5.94902737e-01],\n",
       "       [5.77609850e-01],\n",
       "       [5.84551503e-01],\n",
       "       [5.77637688e-01],\n",
       "       [6.00898838e-01],\n",
       "       [6.01510738e-01],\n",
       "       [6.04091553e-01],\n",
       "       [5.99213466e-01],\n",
       "       [5.99024437e-01],\n",
       "       [5.84912993e-01],\n",
       "       [6.11266911e-01],\n",
       "       [6.17630070e-01],\n",
       "       [6.06717045e-01],\n",
       "       [6.47204406e-01],\n",
       "       [6.75004422e-01],\n",
       "       [6.64008017e-01],\n",
       "       [6.55692374e-01],\n",
       "       [6.32931771e-01],\n",
       "       [6.34316761e-01],\n",
       "       [6.48005470e-01],\n",
       "       [6.57650290e-01],\n",
       "       [6.25928874e-01],\n",
       "       [6.07629191e-01],\n",
       "       [5.68871608e-01],\n",
       "       [5.81603494e-01],\n",
       "       [6.11745187e-01],\n",
       "       [6.14665358e-01],\n",
       "       [6.04664479e-01],\n",
       "       [6.07601353e-01],\n",
       "       [6.33955271e-01],\n",
       "       [6.27842385e-01],\n",
       "       [6.62088939e-01],\n",
       "       [6.63423956e-01],\n",
       "       [6.77029150e-01],\n",
       "       [6.59775100e-01],\n",
       "       [6.64808946e-01],\n",
       "       [6.74960016e-01],\n",
       "       [6.70215418e-01],\n",
       "       [6.60943223e-01],\n",
       "       [6.87169085e-01],\n",
       "       [6.95139804e-01],\n",
       "       [7.04462108e-01],\n",
       "       [7.09217706e-01],\n",
       "       [7.26015750e-01],\n",
       "       [7.21749427e-01],\n",
       "       [7.29041571e-01],\n",
       "       [7.25492798e-01],\n",
       "       [7.21749427e-01],\n",
       "       [7.29252871e-01],\n",
       "       [7.20314464e-01],\n",
       "       [7.30187423e-01],\n",
       "       [7.36244632e-01],\n",
       "       [7.30259667e-01],\n",
       "       [7.39387238e-01],\n",
       "       [7.36194523e-01],\n",
       "       [7.34242175e-01],\n",
       "       [7.25331607e-01],\n",
       "       [7.17516646e-01],\n",
       "       [7.29225168e-01],\n",
       "       [7.55373083e-01],\n",
       "       [7.67076037e-01],\n",
       "       [7.70485755e-01],\n",
       "       [7.60468172e-01],\n",
       "       [7.64890118e-01],\n",
       "       [7.75897794e-01],\n",
       "       [7.80686798e-01],\n",
       "       [7.92790217e-01],\n",
       "       [7.83712755e-01],\n",
       "       [7.90153725e-01],\n",
       "       [7.61324778e-01],\n",
       "       [7.81877192e-01],\n",
       "       [7.98552747e-01],\n",
       "       [8.06651387e-01],\n",
       "       [8.56572405e-01],\n",
       "       [8.76913383e-01],\n",
       "       [8.45230941e-01],\n",
       "       [8.40614263e-01],\n",
       "       [8.42383150e-01],\n",
       "       [8.27704348e-01],\n",
       "       [8.36253561e-01],\n",
       "       [8.39485249e-01],\n",
       "       [8.36687431e-01],\n",
       "       [8.46827366e-01],\n",
       "       [8.47895271e-01],\n",
       "       [8.58641538e-01],\n",
       "       [8.59692740e-01],\n",
       "       [8.55165144e-01],\n",
       "       [8.62952266e-01],\n",
       "       [8.63135864e-01],\n",
       "       [8.68809311e-01],\n",
       "       [8.50837712e-01],\n",
       "       [8.42711234e-01],\n",
       "       [8.46532552e-01],\n",
       "       [8.63480651e-01],\n",
       "       [8.93099528e-01],\n",
       "       [9.07550191e-01],\n",
       "       [9.13685348e-01],\n",
       "       [9.04485397e-01],\n",
       "       [9.31490052e-01],\n",
       "       [9.41713367e-01],\n",
       "       [9.41629987e-01],\n",
       "       [9.45857337e-01],\n",
       "       [9.27802223e-01],\n",
       "       [9.33987488e-01],\n",
       "       [9.42264022e-01],\n",
       "       [9.35194449e-01],\n",
       "       [9.35528237e-01],\n",
       "       [9.02238234e-01],\n",
       "       [9.19414472e-01],\n",
       "       [9.18758167e-01],\n",
       "       [9.38782196e-01],\n",
       "       [9.29521001e-01],\n",
       "       [8.97148848e-01],\n",
       "       [8.69932893e-01],\n",
       "       [8.76935654e-01],\n",
       "       [8.91308506e-01],\n",
       "       [9.01187032e-01],\n",
       "       [9.10158845e-01],\n",
       "       [8.97566015e-01],\n",
       "       [8.38417209e-01],\n",
       "       [8.19917225e-01],\n",
       "       [8.05950541e-01],\n",
       "       [8.41515409e-01],\n",
       "       [8.11507204e-01],\n",
       "       [8.38339397e-01],\n",
       "       [8.51432909e-01],\n",
       "       [8.71807294e-01],\n",
       "       [8.81491224e-01],\n",
       "       [8.68047221e-01],\n",
       "       [8.44302092e-01],\n",
       "       [8.57506821e-01],\n",
       "       [8.96575922e-01],\n",
       "       [8.99501660e-01],\n",
       "       [9.13802133e-01],\n",
       "       [9.23385845e-01],\n",
       "       [9.07733788e-01],\n",
       "       [9.11799811e-01],\n",
       "       [8.65572055e-01],\n",
       "       [8.67218454e-01],\n",
       "       [8.77219333e-01],\n",
       "       [9.52370687e-01],\n",
       "       [9.49050052e-01],\n",
       "       [9.72872992e-01],\n",
       "       [9.22851892e-01],\n",
       "       [9.46090907e-01],\n",
       "       [9.56403304e-01],\n",
       "       [9.77461832e-01],\n",
       "       [9.83669368e-01],\n",
       "       [9.84898599e-01],\n",
       "       [9.83752747e-01],\n",
       "       [9.54578876e-01],\n",
       "       [9.55936028e-01],\n",
       "       [9.88169125e-01],\n",
       "       [9.85304631e-01],\n",
       "       [9.81833805e-01],\n",
       "       [9.81678046e-01],\n",
       "       [1.00000000e+00],\n",
       "       [9.91584411e-01],\n",
       "       [9.59612722e-01],\n",
       "       [9.56036110e-01],\n",
       "       [9.55596808e-01],\n",
       "       [9.12083490e-01],\n",
       "       [9.48883158e-01],\n",
       "       [9.08145388e-01],\n",
       "       [8.98867626e-01],\n",
       "       [9.22879731e-01],\n",
       "       [9.08907343e-01],\n",
       "       [9.23102166e-01],\n",
       "       [9.70269906e-01],\n",
       "       [9.77878999e-01],\n",
       "       [9.71043132e-01],\n",
       "       [9.77372885e-01],\n",
       "       [9.55452184e-01],\n",
       "       [9.36162272e-01],\n",
       "       [9.62838842e-01],\n",
       "       [9.34693902e-01],\n",
       "       [9.12050085e-01],\n",
       "       [9.07583597e-01],\n",
       "       [9.27818926e-01],\n",
       "       [9.58172055e-01],\n",
       "       [9.60324703e-01],\n",
       "       [9.70575856e-01],\n",
       "       [9.52598689e-01],\n",
       "       [9.53227292e-01],\n",
       "       [9.47642791e-01],\n",
       "       [9.32925151e-01],\n",
       "       [9.37319259e-01],\n",
       "       [9.29999413e-01],\n",
       "       [8.54764680e-01],\n",
       "       [8.53624395e-01],\n",
       "       [8.47544916e-01],\n",
       "       [8.65004697e-01],\n",
       "       [8.81062921e-01],\n",
       "       [8.99201278e-01],\n",
       "       [8.71201098e-01],\n",
       "       [8.78493105e-01],\n",
       "       [8.39602034e-01],\n",
       "       [8.32499055e-01],\n",
       "       [8.08631438e-01],\n",
       "       [7.70647081e-01],\n",
       "       [7.73761849e-01],\n",
       "       [7.33307758e-01],\n",
       "       [7.61169019e-01],\n",
       "       [7.59845138e-01],\n",
       "       [8.06217517e-01],\n",
       "       [8.33016305e-01],\n",
       "       [8.57267683e-01],\n",
       "       [9.70269906e-01],\n",
       "       [9.10353577e-01],\n",
       "       [9.14419600e-01],\n",
       "       [8.69054017e-01],\n",
       "       [8.72113244e-01],\n",
       "       [8.97032063e-01],\n",
       "       [8.65321782e-01],\n",
       "       [8.15567659e-01],\n",
       "       [8.28583223e-01],\n",
       "       [8.41103809e-01],\n",
       "       [8.52917981e-01],\n",
       "       [7.95304356e-01],\n",
       "       [7.74824322e-01],\n",
       "       [7.62976744e-01],\n",
       "       [7.42757982e-01],\n",
       "       [7.99364811e-01],\n",
       "       [8.19900522e-01],\n",
       "       [8.24033357e-01],\n",
       "       [8.15990394e-01],\n",
       "       [8.22481473e-01],\n",
       "       [8.17547710e-01],\n",
       "       [7.93229655e-01],\n",
       "       [7.30293073e-01],\n",
       "       [7.39348400e-01],\n",
       "       [8.12630785e-01],\n",
       "       [7.99459326e-01],\n",
       "       [7.74913268e-01],\n",
       "       [7.33369003e-01],\n",
       "       [7.65846806e-01],\n",
       "       [8.10678437e-01],\n",
       "       [8.20801669e-01],\n",
       "       [8.45286617e-01],\n",
       "       [8.41693438e-01],\n",
       "       [8.83955254e-01],\n",
       "       [8.64220471e-01],\n",
       "       [8.95463476e-01],\n",
       "       [8.97794018e-01],\n",
       "       [9.02560887e-01],\n",
       "       [9.17022686e-01],\n",
       "       [9.10286765e-01],\n",
       "       [8.76969060e-01],\n",
       "       [8.88655311e-01],\n",
       "       [9.21389091e-01],\n",
       "       [8.92693496e-01],\n",
       "       [8.49452723e-01],\n",
       "       [8.41543247e-01],\n",
       "       [8.14238210e-01],\n",
       "       [7.67359716e-01],\n",
       "       [7.85197827e-01]])"
      ]
     },
     "execution_count": 12,
     "metadata": {},
     "output_type": "execute_result"
    }
   ],
   "source": [
    "# Scale the data\n",
    "\n",
    "scaler = MinMaxScaler(feature_range=(0,1))\n",
    "scaled_data = scaler.fit_transform(dataset)\n",
    "\n",
    "scaled_data"
   ]
  },
  {
   "cell_type": "code",
   "execution_count": 13,
   "id": "7b4f7511",
   "metadata": {
    "execution": {
     "iopub.execute_input": "2022-04-12T14:07:52.057460Z",
     "iopub.status.busy": "2022-04-12T14:07:52.056665Z",
     "iopub.status.idle": "2022-04-12T14:07:52.061133Z",
     "shell.execute_reply": "2022-04-12T14:07:52.061540Z",
     "shell.execute_reply.started": "2022-04-12T13:56:31.294637Z"
    },
    "papermill": {
     "duration": 0.035112,
     "end_time": "2022-04-12T14:07:52.062055",
     "exception": false,
     "start_time": "2022-04-12T14:07:52.026943",
     "status": "completed"
    },
    "tags": []
   },
   "outputs": [
    {
     "name": "stdout",
     "output_type": "stream",
     "text": [
      "[array([0.00067864, 0.02941864, 0.02565857, 0.02621479, 0.0372169 ,\n",
      "       0.02796134, 0.        , 0.02607017, 0.03335675, 0.03502542,\n",
      "       0.03311754, 0.00963939, 0.06960576, 0.07359947, 0.05799739,\n",
      "       0.06144044, 0.07496219, 0.07284301, 0.08689321, 0.09568706,\n",
      "       0.10396923, 0.08866197, 0.0739721 , 0.07775444, 0.08724357,\n",
      "       0.09322297, 0.08740768, 0.10589374, 0.10371339, 0.10795181,\n",
      "       0.11162287, 0.11207894, 0.11146154, 0.11824194, 0.11985493,\n",
      "       0.12397099, 0.12239134, 0.10893077, 0.12350935, 0.12808149,\n",
      "       0.13339345, 0.13878321, 0.10429182, 0.10948699, 0.11319696,\n",
      "       0.12591777, 0.13059006, 0.1221577 , 0.11979932, 0.13100166,\n",
      "       0.13798229, 0.11993838, 0.12514461, 0.07985141, 0.09935812,\n",
      "       0.10972613, 0.12331469, 0.13814354, 0.15538646, 0.14953505])]\n",
      "[0.15555335263229908]\n",
      "\n",
      "[array([0.00067864, 0.02941864, 0.02565857, 0.02621479, 0.0372169 ,\n",
      "       0.02796134, 0.        , 0.02607017, 0.03335675, 0.03502542,\n",
      "       0.03311754, 0.00963939, 0.06960576, 0.07359947, 0.05799739,\n",
      "       0.06144044, 0.07496219, 0.07284301, 0.08689321, 0.09568706,\n",
      "       0.10396923, 0.08866197, 0.0739721 , 0.07775444, 0.08724357,\n",
      "       0.09322297, 0.08740768, 0.10589374, 0.10371339, 0.10795181,\n",
      "       0.11162287, 0.11207894, 0.11146154, 0.11824194, 0.11985493,\n",
      "       0.12397099, 0.12239134, 0.10893077, 0.12350935, 0.12808149,\n",
      "       0.13339345, 0.13878321, 0.10429182, 0.10948699, 0.11319696,\n",
      "       0.12591777, 0.13059006, 0.1221577 , 0.11979932, 0.13100166,\n",
      "       0.13798229, 0.11993838, 0.12514461, 0.07985141, 0.09935812,\n",
      "       0.10972613, 0.12331469, 0.13814354, 0.15538646, 0.14953505]), array([0.02941864, 0.02565857, 0.02621479, 0.0372169 , 0.02796134,\n",
      "       0.        , 0.02607017, 0.03335675, 0.03502542, 0.03311754,\n",
      "       0.00963939, 0.06960576, 0.07359947, 0.05799739, 0.06144044,\n",
      "       0.07496219, 0.07284301, 0.08689321, 0.09568706, 0.10396923,\n",
      "       0.08866197, 0.0739721 , 0.07775444, 0.08724357, 0.09322297,\n",
      "       0.08740768, 0.10589374, 0.10371339, 0.10795181, 0.11162287,\n",
      "       0.11207894, 0.11146154, 0.11824194, 0.11985493, 0.12397099,\n",
      "       0.12239134, 0.10893077, 0.12350935, 0.12808149, 0.13339345,\n",
      "       0.13878321, 0.10429182, 0.10948699, 0.11319696, 0.12591777,\n",
      "       0.13059006, 0.1221577 , 0.11979932, 0.13100166, 0.13798229,\n",
      "       0.11993838, 0.12514461, 0.07985141, 0.09935812, 0.10972613,\n",
      "       0.12331469, 0.13814354, 0.15538646, 0.14953505, 0.15555335])]\n",
      "[0.15555335263229908, 0.1638911304764663]\n",
      "\n"
     ]
    }
   ],
   "source": [
    "# Create the training data set \n",
    "# Create the scaled training data set\n",
    "train_data = scaled_data[0:int(training_data_len), :]\n",
    "# Split the data into x_train and y_train data sets\n",
    "x_train = []\n",
    "y_train = []\n",
    "\n",
    "for i in range(60, len(train_data)):\n",
    "    x_train.append(train_data[i-60:i, 0])\n",
    "    y_train.append(train_data[i, 0])\n",
    "    if i<= 61:\n",
    "        print(x_train)\n",
    "        print(y_train)\n",
    "        print()\n",
    "        \n",
    "# Convert the x_train and y_train to numpy arrays \n",
    "x_train, y_train = np.array(x_train), np.array(y_train)\n",
    "\n",
    "# Reshape the data\n",
    "x_train = np.reshape(x_train, (x_train.shape[0], x_train.shape[1], 1))"
   ]
  },
  {
   "cell_type": "code",
   "execution_count": 14,
   "id": "6f13731f",
   "metadata": {
    "execution": {
     "iopub.execute_input": "2022-04-12T14:07:52.108035Z",
     "iopub.status.busy": "2022-04-12T14:07:52.107137Z",
     "iopub.status.idle": "2022-04-12T14:07:52.112727Z",
     "shell.execute_reply": "2022-04-12T14:07:52.113227Z",
     "shell.execute_reply.started": "2022-04-12T13:57:41.353051Z"
    },
    "papermill": {
     "duration": 0.02966,
     "end_time": "2022-04-12T14:07:52.113412",
     "exception": false,
     "start_time": "2022-04-12T14:07:52.083752",
     "status": "completed"
    },
    "tags": []
   },
   "outputs": [],
   "source": [
    "# Create the testing data set\n",
    "# Create a new array containing scaled values from index 456 to 505 \n",
    "test_data = scaled_data[training_data_len - 60: , :]\n",
    "# Create the data sets x_test and y_test\n",
    "x_test = []\n",
    "y_test = dataset[training_data_len:, :]\n",
    "for i in range(60, len(test_data)):\n",
    "    x_test.append(test_data[i-60:i, 0])\n",
    "    \n",
    "# Convert the data to a numpy array\n",
    "x_test = np.array(x_test)\n",
    "\n",
    "# Reshape the data\n",
    "x_test = np.reshape(x_test, (x_test.shape[0], x_test.shape[1], 1 ))"
   ]
  },
  {
   "cell_type": "code",
   "execution_count": 15,
   "id": "67f71b60",
   "metadata": {
    "execution": {
     "iopub.execute_input": "2022-04-12T14:07:52.159159Z",
     "iopub.status.busy": "2022-04-12T14:07:52.158233Z",
     "iopub.status.idle": "2022-04-12T14:09:00.125047Z",
     "shell.execute_reply": "2022-04-12T14:09:00.124519Z",
     "shell.execute_reply.started": "2022-04-12T13:58:09.629557Z"
    },
    "papermill": {
     "duration": 67.990739,
     "end_time": "2022-04-12T14:09:00.125188",
     "exception": false,
     "start_time": "2022-04-12T14:07:52.134449",
     "status": "completed"
    },
    "tags": []
   },
   "outputs": [
    {
     "name": "stderr",
     "output_type": "stream",
     "text": [
      "2022-04-12 14:07:52.195044: I tensorflow/core/common_runtime/process_util.cc:146] Creating new thread pool with default inter op setting: 2. Tune using inter_op_parallelism_threads for best performance.\n",
      "2022-04-12 14:07:52.823639: I tensorflow/compiler/mlir/mlir_graph_optimization_pass.cc:185] None of the MLIR Optimization Passes are enabled (registered 2)\n"
     ]
    },
    {
     "name": "stdout",
     "output_type": "stream",
     "text": [
      "Epoch 1/50\n",
      "13/13 [==============================] - 5s 95ms/step - loss: 0.0841\n",
      "Epoch 2/50\n",
      "13/13 [==============================] - 1s 97ms/step - loss: 0.0104\n",
      "Epoch 3/50\n",
      "13/13 [==============================] - 1s 98ms/step - loss: 0.0035\n",
      "Epoch 4/50\n",
      "13/13 [==============================] - 1s 96ms/step - loss: 0.0023\n",
      "Epoch 5/50\n",
      "13/13 [==============================] - 1s 94ms/step - loss: 0.0016\n",
      "Epoch 6/50\n",
      "13/13 [==============================] - 1s 93ms/step - loss: 0.0016\n",
      "Epoch 7/50\n",
      "13/13 [==============================] - 1s 93ms/step - loss: 0.0015\n",
      "Epoch 8/50\n",
      "13/13 [==============================] - 1s 98ms/step - loss: 0.0014\n",
      "Epoch 9/50\n",
      "13/13 [==============================] - 1s 94ms/step - loss: 0.0014\n",
      "Epoch 10/50\n",
      "13/13 [==============================] - 1s 93ms/step - loss: 0.0014\n",
      "Epoch 11/50\n",
      "13/13 [==============================] - 1s 94ms/step - loss: 0.0014\n",
      "Epoch 12/50\n",
      "13/13 [==============================] - 1s 95ms/step - loss: 0.0015\n",
      "Epoch 13/50\n",
      "13/13 [==============================] - 1s 93ms/step - loss: 0.0014\n",
      "Epoch 14/50\n",
      "13/13 [==============================] - 2s 144ms/step - loss: 0.0014\n",
      "Epoch 15/50\n",
      "13/13 [==============================] - 1s 95ms/step - loss: 0.0014\n",
      "Epoch 16/50\n",
      "13/13 [==============================] - 1s 95ms/step - loss: 0.0015\n",
      "Epoch 17/50\n",
      "13/13 [==============================] - 1s 100ms/step - loss: 0.0016\n",
      "Epoch 18/50\n",
      "13/13 [==============================] - 1s 94ms/step - loss: 0.0015\n",
      "Epoch 19/50\n",
      "13/13 [==============================] - 1s 94ms/step - loss: 0.0014\n",
      "Epoch 20/50\n",
      "13/13 [==============================] - 1s 97ms/step - loss: 0.0013\n",
      "Epoch 21/50\n",
      "13/13 [==============================] - 1s 92ms/step - loss: 0.0014\n",
      "Epoch 22/50\n",
      "13/13 [==============================] - 1s 94ms/step - loss: 0.0014\n",
      "Epoch 23/50\n",
      "13/13 [==============================] - 1s 94ms/step - loss: 0.0013\n",
      "Epoch 24/50\n",
      "13/13 [==============================] - 1s 94ms/step - loss: 0.0013\n",
      "Epoch 25/50\n",
      "13/13 [==============================] - 1s 94ms/step - loss: 0.0012\n",
      "Epoch 26/50\n",
      "13/13 [==============================] - 1s 97ms/step - loss: 0.0013\n",
      "Epoch 27/50\n",
      "13/13 [==============================] - 1s 94ms/step - loss: 0.0012\n",
      "Epoch 28/50\n",
      "13/13 [==============================] - 1s 93ms/step - loss: 0.0013\n",
      "Epoch 29/50\n",
      "13/13 [==============================] - 1s 94ms/step - loss: 0.0013\n",
      "Epoch 30/50\n",
      "13/13 [==============================] - 1s 95ms/step - loss: 0.0011\n",
      "Epoch 31/50\n",
      "13/13 [==============================] - 1s 94ms/step - loss: 0.0012\n",
      "Epoch 32/50\n",
      "13/13 [==============================] - 1s 94ms/step - loss: 0.0012\n",
      "Epoch 33/50\n",
      "13/13 [==============================] - 1s 94ms/step - loss: 0.0011\n",
      "Epoch 34/50\n",
      "13/13 [==============================] - 1s 98ms/step - loss: 0.0011\n",
      "Epoch 35/50\n",
      "13/13 [==============================] - 1s 94ms/step - loss: 0.0012\n",
      "Epoch 36/50\n",
      "13/13 [==============================] - 1s 96ms/step - loss: 0.0011\n",
      "Epoch 37/50\n",
      "13/13 [==============================] - 1s 94ms/step - loss: 0.0011\n",
      "Epoch 38/50\n",
      "13/13 [==============================] - 1s 96ms/step - loss: 0.0011\n",
      "Epoch 39/50\n",
      "13/13 [==============================] - 2s 118ms/step - loss: 0.0011\n",
      "Epoch 40/50\n",
      "13/13 [==============================] - 1s 101ms/step - loss: 0.0012\n",
      "Epoch 41/50\n",
      "13/13 [==============================] - 1s 95ms/step - loss: 0.0011\n",
      "Epoch 42/50\n",
      "13/13 [==============================] - 1s 93ms/step - loss: 0.0010\n",
      "Epoch 43/50\n",
      "13/13 [==============================] - 1s 99ms/step - loss: 0.0011\n",
      "Epoch 44/50\n",
      "13/13 [==============================] - 1s 97ms/step - loss: 0.0011\n",
      "Epoch 45/50\n",
      "13/13 [==============================] - 1s 94ms/step - loss: 0.0010\n",
      "Epoch 46/50\n",
      "13/13 [==============================] - 1s 94ms/step - loss: 0.0011\n",
      "Epoch 47/50\n",
      "13/13 [==============================] - 1s 94ms/step - loss: 0.0010\n",
      "Epoch 48/50\n",
      "13/13 [==============================] - 1s 95ms/step - loss: 9.8338e-04\n",
      "Epoch 49/50\n",
      "13/13 [==============================] - 1s 94ms/step - loss: 9.7439e-04\n",
      "Epoch 50/50\n",
      "13/13 [==============================] - 1s 94ms/step - loss: 9.7320e-04\n"
     ]
    },
    {
     "data": {
      "text/plain": [
       "<keras.callbacks.History at 0x7f2838255150>"
      ]
     },
     "execution_count": 15,
     "metadata": {},
     "output_type": "execute_result"
    }
   ],
   "source": [
    "# Build the LSTM model\n",
    "model = Sequential()\n",
    "model.add(LSTM(128, return_sequences=True, input_shape= (x_train.shape[1], 1)))\n",
    "model.add(LSTM(64, return_sequences=False))\n",
    "model.add(Dense(25))\n",
    "model.add(Dense(1))\n",
    "\n",
    "# Compile the model\n",
    "model.compile(optimizer='adam', loss='mean_squared_error')\n",
    "\n",
    "# Train the model\n",
    "model.fit(x_train, y_train, batch_size=32, epochs=50)"
   ]
  },
  {
   "cell_type": "code",
   "execution_count": 16,
   "id": "9d879192",
   "metadata": {
    "execution": {
     "iopub.execute_input": "2022-04-12T14:09:00.572350Z",
     "iopub.status.busy": "2022-04-12T14:09:00.571682Z",
     "iopub.status.idle": "2022-04-12T14:09:01.456683Z",
     "shell.execute_reply": "2022-04-12T14:09:01.456064Z",
     "shell.execute_reply.started": "2022-04-12T14:03:09.513878Z"
    },
    "papermill": {
     "duration": 1.109132,
     "end_time": "2022-04-12T14:09:01.456826",
     "exception": false,
     "start_time": "2022-04-12T14:09:00.347694",
     "status": "completed"
    },
    "tags": []
   },
   "outputs": [
    {
     "data": {
      "text/plain": [
       "104.0414327387872"
      ]
     },
     "execution_count": 16,
     "metadata": {},
     "output_type": "execute_result"
    }
   ],
   "source": [
    "# Get the models predicted price values \n",
    "predictions = model.predict(x_test)\n",
    "predictions = scaler.inverse_transform(predictions)\n",
    "# Get the root mean squared error (RMSE)\n",
    "rmse = np.sqrt(np.mean(((predictions - y_test) ** 2)))\n",
    "rmse"
   ]
  },
  {
   "cell_type": "code",
   "execution_count": 17,
   "id": "588747e3",
   "metadata": {
    "execution": {
     "iopub.execute_input": "2022-04-12T14:09:01.948843Z",
     "iopub.status.busy": "2022-04-12T14:09:01.941750Z",
     "iopub.status.idle": "2022-04-12T14:09:02.163427Z",
     "shell.execute_reply": "2022-04-12T14:09:02.162933Z",
     "shell.execute_reply.started": "2022-04-12T14:03:55.167574Z"
    },
    "papermill": {
     "duration": 0.484823,
     "end_time": "2022-04-12T14:09:02.163562",
     "exception": false,
     "start_time": "2022-04-12T14:09:01.678739",
     "status": "completed"
    },
    "tags": []
   },
   "outputs": [
    {
     "name": "stderr",
     "output_type": "stream",
     "text": [
      "/opt/conda/lib/python3.7/site-packages/ipykernel_launcher.py:4: SettingWithCopyWarning: \n",
      "A value is trying to be set on a copy of a slice from a DataFrame.\n",
      "Try using .loc[row_indexer,col_indexer] = value instead\n",
      "\n",
      "See the caveats in the documentation: https://pandas.pydata.org/pandas-docs/stable/user_guide/indexing.html#returning-a-view-versus-a-copy\n",
      "  after removing the cwd from sys.path.\n"
     ]
    },
    {
     "data": {
      "image/png": "[encoded data removed]",
      "text/plain": [
       "<Figure size 1152x432 with 1 Axes>"
      ]
     },
     "metadata": {
      "needs_background": "light"
     },
     "output_type": "display_data"
    }
   ],
   "source": [
    "# Plotting the data\n",
    "train = data[:training_data_len]\n",
    "valid = data[training_data_len:]\n",
    "valid['Predictions'] = predictions\n",
    "# Visualize the data\n",
    "plt.figure(figsize=(16,6))\n",
    "plt.title('Model')\n",
    "plt.xlabel('Date', fontsize=18)\n",
    "plt.ylabel('Close Price USD ($)', fontsize=18)\n",
    "plt.plot(train['Close'])\n",
    "plt.plot(valid[['Close', 'Predictions']])\n",
    "plt.legend(['Train', 'Val', 'Predictions'], loc='lower right')\n",
    "plt.show()"
   ]
  }
 ],
 "metadata": {
  "kernelspec": {
   "display_name": "Python 3",
   "language": "python",
   "name": "python3"
  },
  "language_info": {
   "codemirror_mode": {
    "name": "ipython",
    "version": 3
   },
   "file_extension": ".py",
   "mimetype": "text/x-python",
   "name": "python",
   "nbconvert_exporter": "python",
   "pygments_lexer": "ipython3",
   "version": "3.7.12"
  },
  "papermill": {
   "default_parameters": {},
   "duration": 102.48378,
   "end_time": "2022-04-12T14:09:05.236217",
   "environment_variables": {},
   "exception": null,
   "input_path": "__notebook__.ipynb",
   "output_path": "__notebook__.ipynb",
   "parameters": {},
   "start_time": "2022-04-12T14:07:22.752437",
   "version": "2.3.3"
  }
 },
 "nbformat": 4,
 "nbformat_minor": 5
}
